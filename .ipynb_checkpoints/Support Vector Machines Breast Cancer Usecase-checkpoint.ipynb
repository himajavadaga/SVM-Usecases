{
 "cells": [
  {
   "cell_type": "markdown",
   "id": "f25e4333-557c-480b-b4d3-3b2b4b125973",
   "metadata": {},
   "source": [
    "Support Vector Machines with Python on breast cancer dataset from Scikit Learn"
   ]
  },
  {
   "cell_type": "markdown",
   "id": "eb435758-a523-4975-8c73-f59a191a9b06",
   "metadata": {},
   "source": [
    "## Import Libraries"
   ]
  },
  {
   "cell_type": "code",
   "execution_count": null,
   "id": "8005b4e7-6aec-49ae-9fe1-bacfa749939b",
   "metadata": {},
   "outputs": [],
   "source": [
    "import numpy as np\n",
    "import pandas as pd\n",
    "import matplotlib.pyplot as plt\n",
    "import seaborn as sns\n",
    "%matplotlib inline"
   ]
  },
  {
   "cell_type": "code",
   "execution_count": null,
   "id": "4e5f53c4-40f9-4cc8-a95c-4d29e5320c41",
   "metadata": {},
   "outputs": [],
   "source": [
    "from sklearn.datasets import load_bre"
   ]
  }
 ],
 "metadata": {
  "kernelspec": {
   "display_name": "Python 3 (ipykernel)",
   "language": "python",
   "name": "python3"
  },
  "language_info": {
   "codemirror_mode": {
    "name": "ipython",
    "version": 3
   },
   "file_extension": ".py",
   "mimetype": "text/x-python",
   "name": "python",
   "nbconvert_exporter": "python",
   "pygments_lexer": "ipython3",
   "version": "3.11.7"
  }
 },
 "nbformat": 4,
 "nbformat_minor": 5
}
